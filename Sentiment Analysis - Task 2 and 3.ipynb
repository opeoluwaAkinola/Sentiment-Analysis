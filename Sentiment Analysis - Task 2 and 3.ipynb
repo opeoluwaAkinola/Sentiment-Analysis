{
 "cells": [
  {
   "cell_type": "markdown",
   "id": "5499aaf3",
   "metadata": {},
   "source": [
    "## COMP30760 Assignment 2  - Task 2\n",
    "\n",
    "Name:Opeoluwa Akinola\n",
    "\n",
    "Student Number:18201236\n",
    "\n",
    "In this we will collect data  from the [My personalised webpage](http://mlg.ucd.ie/modules/python/assign2/18201236/) \n",
    "\n",
    "This notebook covers <b>Task 2 - Review Sentiment Analysis and Review helpfulness Analysis</b>. We will use all of the review data stored as csv files collected during Task 1 to perform the analysis process."
   ]
  },
  {
   "cell_type": "code",
   "execution_count": 56,
   "id": "6b57fa71",
   "metadata": {},
   "outputs": [],
   "source": [
    "import pandas as pd\n",
    "import numpy as np\n",
    "import nltk\n",
    "import warnings\n",
    "from nltk.stem.porter import PorterStemmer\n",
    "from nltk.stem import WordNetLemmatizer\n",
    "from sklearn.pipeline import Pipeline\n",
    "from pathlib import Path\n",
    "from sklearn.feature_extraction.text import CountVectorizer, TfidfTransformer\n",
    "from sklearn.model_selection import train_test_split\n",
    "from sklearn.linear_model import LogisticRegression\n",
    "from sklearn.feature_extraction import text\n",
    "from sklearn.neighbors import KNeighborsClassifier\n",
    "from sklearn.linear_model import SGDClassifier\n",
    "from sklearn.metrics import accuracy_score, precision_score, recall_score, f1_score\n",
    "from sklearn.metrics import classification_report, confusion_matrix, ConfusionMatrixDisplay\n",
    "from sklearn.model_selection import cross_val_score, RepeatedKFold\n",
    "%matplotlib inline"
   ]
  },
  {
   "cell_type": "code",
   "execution_count": 57,
   "id": "9eeb785f",
   "metadata": {},
   "outputs": [],
   "source": [
    "# directory for raw data storage\n",
    "dir_raw = Path(\"raw_data\")\n",
    "#Hide all warnings-This is to ignore userwarning regarding the stopwords that can be ignored.\n",
    "warnings.filterwarnings('ignore')"
   ]
  },
  {
   "cell_type": "markdown",
   "id": "1ac5a72f",
   "metadata": {},
   "source": [
    "\n",
    "# Data Preprocessing\n",
    "Before analysing the data, we need to transfrom the data to usable format.\n",
    "\n",
    "Firstly, read get all reviews in the dataset into a Pandas DataFrame.Each review will be considered as a document"
   ]
  },
  {
   "cell_type": "code",
   "execution_count": 104,
   "id": "65d060d1",
   "metadata": {},
   "outputs": [
    {
     "name": "stdout",
     "output_type": "stream",
     "text": [
      "Read 9244 documents\n"
     ]
    }
   ],
   "source": [
    "df = []\n",
    "for fpath in dir_raw.iterdir():\n",
    "    df1=pd.read_csv(fpath, index_col=\"Title\")\n",
    "    df.append(df1)\n",
    "# concatenate all the DataFrames together into a single frame\n",
    "df_reviews=pd.concat(df)\n",
    "print(\"Read %d documents\" % len(df_reviews))"
   ]
  },
  {
   "cell_type": "code",
   "execution_count": 105,
   "id": "620d7737",
   "metadata": {},
   "outputs": [
    {
     "data": {
      "text/html": [
       "<div>\n",
       "<style scoped>\n",
       "    .dataframe tbody tr th:only-of-type {\n",
       "        vertical-align: middle;\n",
       "    }\n",
       "\n",
       "    .dataframe tbody tr th {\n",
       "        vertical-align: top;\n",
       "    }\n",
       "\n",
       "    .dataframe thead th {\n",
       "        text-align: right;\n",
       "    }\n",
       "</style>\n",
       "<table border=\"1\" class=\"dataframe\">\n",
       "  <thead>\n",
       "    <tr style=\"text-align: right;\">\n",
       "      <th></th>\n",
       "      <th>Star Rating</th>\n",
       "      <th>Review</th>\n",
       "      <th>Helpfulness</th>\n",
       "    </tr>\n",
       "    <tr>\n",
       "      <th>Title</th>\n",
       "      <th></th>\n",
       "      <th></th>\n",
       "      <th></th>\n",
       "    </tr>\n",
       "  </thead>\n",
       "  <tbody>\n",
       "    <tr>\n",
       "      <th>Far and a way the \"Best Buy\" in truffle oil</th>\n",
       "      <td>5</td>\n",
       "      <td>\"Full strength\" truffle oils (as opposed to ol...</td>\n",
       "      <td>59 out of 60 users found this review helpful</td>\n",
       "    </tr>\n",
       "    <tr>\n",
       "      <th>gritty, unpleasant texture</th>\n",
       "      <td>1</td>\n",
       "      <td>I was really excited to find this salt, becaus...</td>\n",
       "      <td>6 out of 12 users found this review helpful</td>\n",
       "    </tr>\n",
       "    <tr>\n",
       "      <th>Fine Ooolong (Wu Long) Tea</th>\n",
       "      <td>5</td>\n",
       "      <td>Sometimes I feel like I've been on a diet fore...</td>\n",
       "      <td>29 out of 31 users found this review helpful</td>\n",
       "    </tr>\n",
       "    <tr>\n",
       "      <th>Rather weak and non-descript tea</th>\n",
       "      <td>2</td>\n",
       "      <td>There are several other Stash teas that I've t...</td>\n",
       "      <td>10 out of 12 users found this review helpful</td>\n",
       "    </tr>\n",
       "    <tr>\n",
       "      <th>Very disapointing!!</th>\n",
       "      <td>1</td>\n",
       "      <td>I received my order of Grove Square hot cocoa ...</td>\n",
       "      <td>9 out of 14 users found this review helpful</td>\n",
       "    </tr>\n",
       "    <tr>\n",
       "      <th>Delicious!</th>\n",
       "      <td>5</td>\n",
       "      <td>The chocolate covered cherries were delicious,...</td>\n",
       "      <td>19 out of 19 users found this review helpful</td>\n",
       "    </tr>\n",
       "    <tr>\n",
       "      <th>Truly Scary Stuff!</th>\n",
       "      <td>1</td>\n",
       "      <td>OMG!! What were they thinking when they came o...</td>\n",
       "      <td>23 out of 26 users found this review helpful</td>\n",
       "    </tr>\n",
       "    <tr>\n",
       "      <th>Good Price For Popular Gift</th>\n",
       "      <td>5</td>\n",
       "      <td>I bought this for my parents as a Christmas gi...</td>\n",
       "      <td>128 out of 134 users found this review helpful</td>\n",
       "    </tr>\n",
       "    <tr>\n",
       "      <th>BEWARE..Don't be fooled thinking this is healthy!</th>\n",
       "      <td>1</td>\n",
       "      <td>Do NOT be fooled thinking this is healthy, bec...</td>\n",
       "      <td>4 out of 14 users found this review helpful</td>\n",
       "    </tr>\n",
       "    <tr>\n",
       "      <th>Jeri in CA</th>\n",
       "      <td>4</td>\n",
       "      <td>Product was great, but I ordered &amp; paid for 2 ...</td>\n",
       "      <td>7 out of 15 users found this review helpful</td>\n",
       "    </tr>\n",
       "  </tbody>\n",
       "</table>\n",
       "</div>"
      ],
      "text/plain": [
       "                                                    Star Rating  \\\n",
       "Title                                                             \n",
       " Far and a way the \"Best Buy\" in truffle oil                  5   \n",
       " gritty, unpleasant texture                                   1   \n",
       " Fine Ooolong (Wu Long) Tea                                   5   \n",
       " Rather weak and non-descript tea                             2   \n",
       " Very disapointing!!                                          1   \n",
       " Delicious!                                                   5   \n",
       " Truly Scary Stuff!                                           1   \n",
       " Good Price For Popular Gift                                  5   \n",
       " BEWARE..Don't be fooled thinking this is healthy!            1   \n",
       " Jeri in CA                                                   4   \n",
       "\n",
       "                                                                                               Review  \\\n",
       "Title                                                                                                   \n",
       " Far and a way the \"Best Buy\" in truffle oil        \"Full strength\" truffle oils (as opposed to ol...   \n",
       " gritty, unpleasant texture                         I was really excited to find this salt, becaus...   \n",
       " Fine Ooolong (Wu Long) Tea                         Sometimes I feel like I've been on a diet fore...   \n",
       " Rather weak and non-descript tea                   There are several other Stash teas that I've t...   \n",
       " Very disapointing!!                                I received my order of Grove Square hot cocoa ...   \n",
       " Delicious!                                         The chocolate covered cherries were delicious,...   \n",
       " Truly Scary Stuff!                                 OMG!! What were they thinking when they came o...   \n",
       " Good Price For Popular Gift                        I bought this for my parents as a Christmas gi...   \n",
       " BEWARE..Don't be fooled thinking this is healthy!  Do NOT be fooled thinking this is healthy, bec...   \n",
       " Jeri in CA                                         Product was great, but I ordered & paid for 2 ...   \n",
       "\n",
       "                                                                                       Helpfulness  \n",
       "Title                                                                                               \n",
       " Far and a way the \"Best Buy\" in truffle oil          59 out of 60 users found this review helpful  \n",
       " gritty, unpleasant texture                            6 out of 12 users found this review helpful  \n",
       " Fine Ooolong (Wu Long) Tea                           29 out of 31 users found this review helpful  \n",
       " Rather weak and non-descript tea                     10 out of 12 users found this review helpful  \n",
       " Very disapointing!!                                   9 out of 14 users found this review helpful  \n",
       " Delicious!                                           19 out of 19 users found this review helpful  \n",
       " Truly Scary Stuff!                                   23 out of 26 users found this review helpful  \n",
       " Good Price For Popular Gift                        128 out of 134 users found this review helpful  \n",
       " BEWARE..Don't be fooled thinking this is healthy!     4 out of 14 users found this review helpful  \n",
       " Jeri in CA                                            7 out of 15 users found this review helpful  "
      ]
     },
     "execution_count": 105,
     "metadata": {},
     "output_type": "execute_result"
    }
   ],
   "source": [
    "df_reviews.head(10)"
   ]
  },
  {
   "cell_type": "markdown",
   "id": "c62b9058",
   "metadata": {},
   "source": [
    "Next we add class labels to the ratings. i.e <i>Positive</i> is greater than 3, <i>Negative</i> if its 3 or less"
   ]
  },
  {
   "cell_type": "code",
   "execution_count": 106,
   "id": "27953adf",
   "metadata": {},
   "outputs": [
    {
     "data": {
      "text/html": [
       "<div>\n",
       "<style scoped>\n",
       "    .dataframe tbody tr th:only-of-type {\n",
       "        vertical-align: middle;\n",
       "    }\n",
       "\n",
       "    .dataframe tbody tr th {\n",
       "        vertical-align: top;\n",
       "    }\n",
       "\n",
       "    .dataframe thead th {\n",
       "        text-align: right;\n",
       "    }\n",
       "</style>\n",
       "<table border=\"1\" class=\"dataframe\">\n",
       "  <thead>\n",
       "    <tr style=\"text-align: right;\">\n",
       "      <th></th>\n",
       "      <th>Star Rating</th>\n",
       "      <th>Review</th>\n",
       "      <th>Helpfulness</th>\n",
       "      <th>Class Label</th>\n",
       "    </tr>\n",
       "    <tr>\n",
       "      <th>Title</th>\n",
       "      <th></th>\n",
       "      <th></th>\n",
       "      <th></th>\n",
       "      <th></th>\n",
       "    </tr>\n",
       "  </thead>\n",
       "  <tbody>\n",
       "    <tr>\n",
       "      <th>Far and a way the \"Best Buy\" in truffle oil</th>\n",
       "      <td>5</td>\n",
       "      <td>\"Full strength\" truffle oils (as opposed to ol...</td>\n",
       "      <td>59 out of 60 users found this review helpful</td>\n",
       "      <td>Positive</td>\n",
       "    </tr>\n",
       "    <tr>\n",
       "      <th>gritty, unpleasant texture</th>\n",
       "      <td>1</td>\n",
       "      <td>I was really excited to find this salt, becaus...</td>\n",
       "      <td>6 out of 12 users found this review helpful</td>\n",
       "      <td>Negative</td>\n",
       "    </tr>\n",
       "    <tr>\n",
       "      <th>Fine Ooolong (Wu Long) Tea</th>\n",
       "      <td>5</td>\n",
       "      <td>Sometimes I feel like I've been on a diet fore...</td>\n",
       "      <td>29 out of 31 users found this review helpful</td>\n",
       "      <td>Positive</td>\n",
       "    </tr>\n",
       "    <tr>\n",
       "      <th>Rather weak and non-descript tea</th>\n",
       "      <td>2</td>\n",
       "      <td>There are several other Stash teas that I've t...</td>\n",
       "      <td>10 out of 12 users found this review helpful</td>\n",
       "      <td>Negative</td>\n",
       "    </tr>\n",
       "    <tr>\n",
       "      <th>Very disapointing!!</th>\n",
       "      <td>1</td>\n",
       "      <td>I received my order of Grove Square hot cocoa ...</td>\n",
       "      <td>9 out of 14 users found this review helpful</td>\n",
       "      <td>Negative</td>\n",
       "    </tr>\n",
       "    <tr>\n",
       "      <th>Delicious!</th>\n",
       "      <td>5</td>\n",
       "      <td>The chocolate covered cherries were delicious,...</td>\n",
       "      <td>19 out of 19 users found this review helpful</td>\n",
       "      <td>Positive</td>\n",
       "    </tr>\n",
       "    <tr>\n",
       "      <th>Truly Scary Stuff!</th>\n",
       "      <td>1</td>\n",
       "      <td>OMG!! What were they thinking when they came o...</td>\n",
       "      <td>23 out of 26 users found this review helpful</td>\n",
       "      <td>Negative</td>\n",
       "    </tr>\n",
       "    <tr>\n",
       "      <th>Good Price For Popular Gift</th>\n",
       "      <td>5</td>\n",
       "      <td>I bought this for my parents as a Christmas gi...</td>\n",
       "      <td>128 out of 134 users found this review helpful</td>\n",
       "      <td>Positive</td>\n",
       "    </tr>\n",
       "    <tr>\n",
       "      <th>BEWARE..Don't be fooled thinking this is healthy!</th>\n",
       "      <td>1</td>\n",
       "      <td>Do NOT be fooled thinking this is healthy, bec...</td>\n",
       "      <td>4 out of 14 users found this review helpful</td>\n",
       "      <td>Negative</td>\n",
       "    </tr>\n",
       "    <tr>\n",
       "      <th>Jeri in CA</th>\n",
       "      <td>4</td>\n",
       "      <td>Product was great, but I ordered &amp; paid for 2 ...</td>\n",
       "      <td>7 out of 15 users found this review helpful</td>\n",
       "      <td>Positive</td>\n",
       "    </tr>\n",
       "  </tbody>\n",
       "</table>\n",
       "</div>"
      ],
      "text/plain": [
       "                                                    Star Rating  \\\n",
       "Title                                                             \n",
       " Far and a way the \"Best Buy\" in truffle oil                  5   \n",
       " gritty, unpleasant texture                                   1   \n",
       " Fine Ooolong (Wu Long) Tea                                   5   \n",
       " Rather weak and non-descript tea                             2   \n",
       " Very disapointing!!                                          1   \n",
       " Delicious!                                                   5   \n",
       " Truly Scary Stuff!                                           1   \n",
       " Good Price For Popular Gift                                  5   \n",
       " BEWARE..Don't be fooled thinking this is healthy!            1   \n",
       " Jeri in CA                                                   4   \n",
       "\n",
       "                                                                                               Review  \\\n",
       "Title                                                                                                   \n",
       " Far and a way the \"Best Buy\" in truffle oil        \"Full strength\" truffle oils (as opposed to ol...   \n",
       " gritty, unpleasant texture                         I was really excited to find this salt, becaus...   \n",
       " Fine Ooolong (Wu Long) Tea                         Sometimes I feel like I've been on a diet fore...   \n",
       " Rather weak and non-descript tea                   There are several other Stash teas that I've t...   \n",
       " Very disapointing!!                                I received my order of Grove Square hot cocoa ...   \n",
       " Delicious!                                         The chocolate covered cherries were delicious,...   \n",
       " Truly Scary Stuff!                                 OMG!! What were they thinking when they came o...   \n",
       " Good Price For Popular Gift                        I bought this for my parents as a Christmas gi...   \n",
       " BEWARE..Don't be fooled thinking this is healthy!  Do NOT be fooled thinking this is healthy, bec...   \n",
       " Jeri in CA                                         Product was great, but I ordered & paid for 2 ...   \n",
       "\n",
       "                                                                                       Helpfulness  \\\n",
       "Title                                                                                                \n",
       " Far and a way the \"Best Buy\" in truffle oil          59 out of 60 users found this review helpful   \n",
       " gritty, unpleasant texture                            6 out of 12 users found this review helpful   \n",
       " Fine Ooolong (Wu Long) Tea                           29 out of 31 users found this review helpful   \n",
       " Rather weak and non-descript tea                     10 out of 12 users found this review helpful   \n",
       " Very disapointing!!                                   9 out of 14 users found this review helpful   \n",
       " Delicious!                                           19 out of 19 users found this review helpful   \n",
       " Truly Scary Stuff!                                   23 out of 26 users found this review helpful   \n",
       " Good Price For Popular Gift                        128 out of 134 users found this review helpful   \n",
       " BEWARE..Don't be fooled thinking this is healthy!     4 out of 14 users found this review helpful   \n",
       " Jeri in CA                                            7 out of 15 users found this review helpful   \n",
       "\n",
       "                                                   Class Label  \n",
       "Title                                                           \n",
       " Far and a way the \"Best Buy\" in truffle oil          Positive  \n",
       " gritty, unpleasant texture                           Negative  \n",
       " Fine Ooolong (Wu Long) Tea                           Positive  \n",
       " Rather weak and non-descript tea                     Negative  \n",
       " Very disapointing!!                                  Negative  \n",
       " Delicious!                                           Positive  \n",
       " Truly Scary Stuff!                                   Negative  \n",
       " Good Price For Popular Gift                          Positive  \n",
       " BEWARE..Don't be fooled thinking this is healthy!    Negative  \n",
       " Jeri in CA                                           Positive  "
      ]
     },
     "execution_count": 106,
     "metadata": {},
     "output_type": "execute_result"
    }
   ],
   "source": [
    "#drop any deuplicates\n",
    "# df_reviews.reset_index().drop_duplicates(subset=\"Title\").set_index('Title')\n",
    "df_reviews.drop_duplicates()\n",
    "#  convert Star rating to numpy arrrays\n",
    "ratings = np.array(df_reviews['Star Rating'].values.tolist())\n",
    "# Apply conditions for Class label\n",
    "df_reviews['Class Label'] = np.asarray([\"Negative\" if rating < 4 else \"Positive\" for rating in ratings]).tolist()\n",
    "#Check new Column\n",
    "df_reviews.head(10)"
   ]
  },
  {
   "cell_type": "markdown",
   "id": "fe6e5ab2",
   "metadata": {},
   "source": [
    "Next we create a function <b>get_helpfulness_info</b>.This function returns 'Helpful' if over half of the total users find it helful and returns 'Unhelpful' other wise"
   ]
  },
  {
   "cell_type": "code",
   "execution_count": 107,
   "id": "adfb2b01",
   "metadata": {},
   "outputs": [],
   "source": [
    "def get_helpfulness_info(text):\n",
    "    #Convert helfullnes to string\n",
    "    text=str(text)\n",
    "    #Strip string \n",
    "    x = text.strip(\"users found this review helpful\")\n",
    "    #convert stripped string to tuple to access values\n",
    "    partitioned_string = x.partition(' out of ')\n",
    "    #convert values in tuple to float\n",
    "    num1=float(partitioned_string[0])\n",
    "    num2=float(partitioned_string[2])\n",
    "    #find ratio\n",
    "    ratio=num1/num2\n",
    "   #  condition if ratio os helpful users to total users is greater than 0.5 \n",
    "    if ratio > 0.5:\n",
    "        return \"Helpful\"\n",
    "    else:\n",
    "        return \"Unhelpful\""
   ]
  },
  {
   "cell_type": "code",
   "execution_count": 108,
   "id": "1975572d",
   "metadata": {},
   "outputs": [
    {
     "data": {
      "text/html": [
       "<div>\n",
       "<style scoped>\n",
       "    .dataframe tbody tr th:only-of-type {\n",
       "        vertical-align: middle;\n",
       "    }\n",
       "\n",
       "    .dataframe tbody tr th {\n",
       "        vertical-align: top;\n",
       "    }\n",
       "\n",
       "    .dataframe thead th {\n",
       "        text-align: right;\n",
       "    }\n",
       "</style>\n",
       "<table border=\"1\" class=\"dataframe\">\n",
       "  <thead>\n",
       "    <tr style=\"text-align: right;\">\n",
       "      <th></th>\n",
       "      <th>Star Rating</th>\n",
       "      <th>Review</th>\n",
       "      <th>Helpfulness</th>\n",
       "      <th>Class Label</th>\n",
       "    </tr>\n",
       "    <tr>\n",
       "      <th>Title</th>\n",
       "      <th></th>\n",
       "      <th></th>\n",
       "      <th></th>\n",
       "      <th></th>\n",
       "    </tr>\n",
       "  </thead>\n",
       "  <tbody>\n",
       "    <tr>\n",
       "      <th>Far and a way the \"Best Buy\" in truffle oil</th>\n",
       "      <td>5</td>\n",
       "      <td>\"Full strength\" truffle oils (as opposed to ol...</td>\n",
       "      <td>Helpful</td>\n",
       "      <td>Positive</td>\n",
       "    </tr>\n",
       "    <tr>\n",
       "      <th>gritty, unpleasant texture</th>\n",
       "      <td>1</td>\n",
       "      <td>I was really excited to find this salt, becaus...</td>\n",
       "      <td>Unhelpful</td>\n",
       "      <td>Negative</td>\n",
       "    </tr>\n",
       "    <tr>\n",
       "      <th>Fine Ooolong (Wu Long) Tea</th>\n",
       "      <td>5</td>\n",
       "      <td>Sometimes I feel like I've been on a diet fore...</td>\n",
       "      <td>Helpful</td>\n",
       "      <td>Positive</td>\n",
       "    </tr>\n",
       "    <tr>\n",
       "      <th>Rather weak and non-descript tea</th>\n",
       "      <td>2</td>\n",
       "      <td>There are several other Stash teas that I've t...</td>\n",
       "      <td>Helpful</td>\n",
       "      <td>Negative</td>\n",
       "    </tr>\n",
       "    <tr>\n",
       "      <th>Very disapointing!!</th>\n",
       "      <td>1</td>\n",
       "      <td>I received my order of Grove Square hot cocoa ...</td>\n",
       "      <td>Helpful</td>\n",
       "      <td>Negative</td>\n",
       "    </tr>\n",
       "    <tr>\n",
       "      <th>Delicious!</th>\n",
       "      <td>5</td>\n",
       "      <td>The chocolate covered cherries were delicious,...</td>\n",
       "      <td>Helpful</td>\n",
       "      <td>Positive</td>\n",
       "    </tr>\n",
       "    <tr>\n",
       "      <th>Truly Scary Stuff!</th>\n",
       "      <td>1</td>\n",
       "      <td>OMG!! What were they thinking when they came o...</td>\n",
       "      <td>Helpful</td>\n",
       "      <td>Negative</td>\n",
       "    </tr>\n",
       "    <tr>\n",
       "      <th>Good Price For Popular Gift</th>\n",
       "      <td>5</td>\n",
       "      <td>I bought this for my parents as a Christmas gi...</td>\n",
       "      <td>Helpful</td>\n",
       "      <td>Positive</td>\n",
       "    </tr>\n",
       "    <tr>\n",
       "      <th>BEWARE..Don't be fooled thinking this is healthy!</th>\n",
       "      <td>1</td>\n",
       "      <td>Do NOT be fooled thinking this is healthy, bec...</td>\n",
       "      <td>Unhelpful</td>\n",
       "      <td>Negative</td>\n",
       "    </tr>\n",
       "    <tr>\n",
       "      <th>Jeri in CA</th>\n",
       "      <td>4</td>\n",
       "      <td>Product was great, but I ordered &amp; paid for 2 ...</td>\n",
       "      <td>Unhelpful</td>\n",
       "      <td>Positive</td>\n",
       "    </tr>\n",
       "  </tbody>\n",
       "</table>\n",
       "</div>"
      ],
      "text/plain": [
       "                                                    Star Rating  \\\n",
       "Title                                                             \n",
       " Far and a way the \"Best Buy\" in truffle oil                  5   \n",
       " gritty, unpleasant texture                                   1   \n",
       " Fine Ooolong (Wu Long) Tea                                   5   \n",
       " Rather weak and non-descript tea                             2   \n",
       " Very disapointing!!                                          1   \n",
       " Delicious!                                                   5   \n",
       " Truly Scary Stuff!                                           1   \n",
       " Good Price For Popular Gift                                  5   \n",
       " BEWARE..Don't be fooled thinking this is healthy!            1   \n",
       " Jeri in CA                                                   4   \n",
       "\n",
       "                                                                                               Review  \\\n",
       "Title                                                                                                   \n",
       " Far and a way the \"Best Buy\" in truffle oil        \"Full strength\" truffle oils (as opposed to ol...   \n",
       " gritty, unpleasant texture                         I was really excited to find this salt, becaus...   \n",
       " Fine Ooolong (Wu Long) Tea                         Sometimes I feel like I've been on a diet fore...   \n",
       " Rather weak and non-descript tea                   There are several other Stash teas that I've t...   \n",
       " Very disapointing!!                                I received my order of Grove Square hot cocoa ...   \n",
       " Delicious!                                         The chocolate covered cherries were delicious,...   \n",
       " Truly Scary Stuff!                                 OMG!! What were they thinking when they came o...   \n",
       " Good Price For Popular Gift                        I bought this for my parents as a Christmas gi...   \n",
       " BEWARE..Don't be fooled thinking this is healthy!  Do NOT be fooled thinking this is healthy, bec...   \n",
       " Jeri in CA                                         Product was great, but I ordered & paid for 2 ...   \n",
       "\n",
       "                                                   Helpfulness Class Label  \n",
       "Title                                                                       \n",
       " Far and a way the \"Best Buy\" in truffle oil           Helpful    Positive  \n",
       " gritty, unpleasant texture                          Unhelpful    Negative  \n",
       " Fine Ooolong (Wu Long) Tea                            Helpful    Positive  \n",
       " Rather weak and non-descript tea                      Helpful    Negative  \n",
       " Very disapointing!!                                   Helpful    Negative  \n",
       " Delicious!                                            Helpful    Positive  \n",
       " Truly Scary Stuff!                                    Helpful    Negative  \n",
       " Good Price For Popular Gift                           Helpful    Positive  \n",
       " BEWARE..Don't be fooled thinking this is healthy!   Unhelpful    Negative  \n",
       " Jeri in CA                                          Unhelpful    Positive  "
      ]
     },
     "execution_count": 108,
     "metadata": {},
     "output_type": "execute_result"
    }
   ],
   "source": [
    "row=[]\n",
    "#loop through the dataframe rows and get helfullnesss information\n",
    "for i in range(len(df_reviews)):\n",
    "    row.append(get_helpfulness_info(df_reviews.iloc[i]['Helpfulness']))\n",
    "#Chane 'Helpfulness column'\n",
    "df_reviews['Helpfulness']=row\n",
    "#Check reviews dataframe\n",
    "df_reviews.head(10)"
   ]
  },
  {
   "cell_type": "markdown",
   "id": "144c59b1",
   "metadata": {},
   "source": [
    "# Task 2-Review Sentiment Classification"
   ]
  },
  {
   "cell_type": "markdown",
   "id": "619154b0",
   "metadata": {},
   "source": [
    "Our documents here are given by the Title-Review Column.Our target variable is given by the Class Label column, where Positive indicates a positive review and Negative indicates a negative review."
   ]
  },
  {
   "cell_type": "code",
   "execution_count": 109,
   "id": "c8a8d8c8",
   "metadata": {},
   "outputs": [],
   "source": [
    "# Content for all documents\n",
    "df_reviews[\"Title-Review\"]=df_reviews.index+\" \"+df_reviews[\"Review\"]\n",
    "documents=df_reviews[\"Title-Review\"]\n",
    "target_categories=[\"Positive\", \"Negative\"]\n",
    "# Class labels for all documents\n",
    "target=df_reviews['Class Label']"
   ]
  },
  {
   "cell_type": "markdown",
   "id": "08b01a46",
   "metadata": {},
   "source": [
    "Firstly,  Split the data, so that we have 70% in the training set and 30% in the test set"
   ]
  },
  {
   "cell_type": "code",
   "execution_count": 110,
   "id": "2be3e8a7",
   "metadata": {},
   "outputs": [],
   "source": [
    "data_train, data_test, target_train, target_test = train_test_split(documents, target, test_size=0.3)"
   ]
  },
  {
   "cell_type": "markdown",
   "id": "d9aabd33",
   "metadata": {},
   "source": [
    "Then create a custom tokenisation function to perform lemmatisation using NLTK with Sckit-learn:"
   ]
  },
  {
   "cell_type": "code",
   "execution_count": 111,
   "id": "36b02a6f",
   "metadata": {},
   "outputs": [],
   "source": [
    "def lemma_tokenizer(text):\n",
    "    # use the standard scikit-learn tokenizer first\n",
    "    standard_tokenizer = CountVectorizer().build_tokenizer()\n",
    "    tokens = standard_tokenizer(text)\n",
    "    # then use NLTK to perform lemmatisation on each token\n",
    "    lemmatizer = WordNetLemmatizer()\n",
    "    lemma_tokens = []\n",
    "    for token in tokens:\n",
    "        #covert tokens to lower case\n",
    "        lemma_tokens.append(lemmatizer.lemmatize(token))\n",
    "    return lemma_tokens"
   ]
  },
  {
   "cell_type": "markdown",
   "id": "6ac66db1",
   "metadata": {},
   "source": [
    "Load the stopwords from scikit-learn"
   ]
  },
  {
   "cell_type": "code",
   "execution_count": 112,
   "id": "9f7579fa",
   "metadata": {},
   "outputs": [],
   "source": [
    "stopword = text.ENGLISH_STOP_WORDS"
   ]
  },
  {
   "cell_type": "markdown",
   "id": "167a0979",
   "metadata": {},
   "source": [
    "## Classification  - K-Nearest Neighbor"
   ]
  },
  {
   "cell_type": "markdown",
   "id": "ace961e8",
   "metadata": {},
   "source": [
    "We use K-Nearest Neighbour from scikit-learn as a Classfier.Pipleine from Sckitlearn will be used for the preprocessing techniques which are <i>case conversion, lemmanisation, stop-word filtering,low frequency term filtering = 3</i> and classification."
   ]
  },
  {
   "cell_type": "code",
   "execution_count": 113,
   "id": "5ec81500",
   "metadata": {},
   "outputs": [],
   "source": [
    "pipeline_KNN = Pipeline([\n",
    "    ('vec', CountVectorizer(min_df = 3, stop_words=stopword,tokenizer=lemma_tokenizer,lowercase=True)),\n",
    "    ('tfidf', TfidfTransformer()),\n",
    "    ('clf', KNeighborsClassifier(n_neighbors=3))\n",
    "])"
   ]
  },
  {
   "cell_type": "markdown",
   "id": "498d9993",
   "metadata": {},
   "source": [
    "Now we can train the model using the pipeline:"
   ]
  },
  {
   "cell_type": "code",
   "execution_count": 114,
   "id": "fb3f7554",
   "metadata": {},
   "outputs": [
    {
     "data": {
      "text/plain": [
       "Pipeline(steps=[('vec',\n",
       "                 CountVectorizer(min_df=3,\n",
       "                                 stop_words=frozenset({'a', 'about', 'above',\n",
       "                                                       'across', 'after',\n",
       "                                                       'afterwards', 'again',\n",
       "                                                       'against', 'all',\n",
       "                                                       'almost', 'alone',\n",
       "                                                       'along', 'already',\n",
       "                                                       'also', 'although',\n",
       "                                                       'always', 'am', 'among',\n",
       "                                                       'amongst', 'amoungst',\n",
       "                                                       'amount', 'an', 'and',\n",
       "                                                       'another', 'any',\n",
       "                                                       'anyhow', 'anyone',\n",
       "                                                       'anything', 'anyway',\n",
       "                                                       'anywhere', ...}),\n",
       "                                 tokenizer=<function lemma_tokenizer at 0x000001D299C26550>)),\n",
       "                ('tfidf', TfidfTransformer()),\n",
       "                ('clf', KNeighborsClassifier(n_neighbors=3))])"
      ]
     },
     "execution_count": 114,
     "metadata": {},
     "output_type": "execute_result"
    }
   ],
   "source": [
    "pipeline_KNN.fit(data_train, target_train)"
   ]
  },
  {
   "cell_type": "markdown",
   "id": "04141df2",
   "metadata": {},
   "source": [
    "Use pipeline to test the model on the set of test documents"
   ]
  },
  {
   "cell_type": "code",
   "execution_count": 115,
   "id": "4a9bc0e7",
   "metadata": {},
   "outputs": [],
   "source": [
    "KNN_predicted = pipeline_KNN.predict(data_test)"
   ]
  },
  {
   "cell_type": "markdown",
   "id": "293bd618",
   "metadata": {},
   "source": [
    "## Classification  - Logistic Regression"
   ]
  },
  {
   "cell_type": "markdown",
   "id": "ece29f42",
   "metadata": {},
   "source": [
    "We use Logistic Regression from scikit-learn as a Classfier.Pipleine from Sckitlearn will be used for the preprocessing techniques which are <i>case conversion, lemmanisation, stop-word filtering,low frequency term filtering = 3</i> and classification."
   ]
  },
  {
   "cell_type": "code",
   "execution_count": 116,
   "id": "9452ce53",
   "metadata": {},
   "outputs": [],
   "source": [
    "pipeline_logic_regr = Pipeline([\n",
    "    ('vec', CountVectorizer(min_df = 3, stop_words=stopword,tokenizer=lemma_tokenizer,lowercase=True)),\n",
    "    ('tfidf', TfidfTransformer()),\n",
    "    ('clf', LogisticRegression(random_state=0))\n",
    "])"
   ]
  },
  {
   "cell_type": "markdown",
   "id": "123099fa",
   "metadata": {},
   "source": [
    "Now we can train the model using the pipeline:"
   ]
  },
  {
   "cell_type": "code",
   "execution_count": 117,
   "id": "a117193c",
   "metadata": {},
   "outputs": [
    {
     "data": {
      "text/plain": [
       "Pipeline(steps=[('vec',\n",
       "                 CountVectorizer(min_df=3,\n",
       "                                 stop_words=frozenset({'a', 'about', 'above',\n",
       "                                                       'across', 'after',\n",
       "                                                       'afterwards', 'again',\n",
       "                                                       'against', 'all',\n",
       "                                                       'almost', 'alone',\n",
       "                                                       'along', 'already',\n",
       "                                                       'also', 'although',\n",
       "                                                       'always', 'am', 'among',\n",
       "                                                       'amongst', 'amoungst',\n",
       "                                                       'amount', 'an', 'and',\n",
       "                                                       'another', 'any',\n",
       "                                                       'anyhow', 'anyone',\n",
       "                                                       'anything', 'anyway',\n",
       "                                                       'anywhere', ...}),\n",
       "                                 tokenizer=<function lemma_tokenizer at 0x000001D299C26550>)),\n",
       "                ('tfidf', TfidfTransformer()),\n",
       "                ('clf', LogisticRegression(random_state=0))])"
      ]
     },
     "execution_count": 117,
     "metadata": {},
     "output_type": "execute_result"
    }
   ],
   "source": [
    "pipeline_logic_regr.fit(data_train, target_train)"
   ]
  },
  {
   "cell_type": "markdown",
   "id": "77924f51",
   "metadata": {},
   "source": [
    "Use pipeline to test the model on the set of test documents"
   ]
  },
  {
   "cell_type": "code",
   "execution_count": 118,
   "id": "aa4c809f",
   "metadata": {},
   "outputs": [],
   "source": [
    "Loigic_Regr_predicted = pipeline_logic_regr.predict(data_test)"
   ]
  },
  {
   "cell_type": "markdown",
   "id": "7cb34e90",
   "metadata": {},
   "source": [
    "## Evaluation of Classifiers"
   ]
  },
  {
   "cell_type": "markdown",
   "id": "b086dace",
   "metadata": {},
   "source": [
    "Now we will evaluate the performance of the classifiers. \n",
    "\n",
    "Firstly, we can just look at the <b>overall accuracy</b>"
   ]
  },
  {
   "cell_type": "code",
   "execution_count": 119,
   "id": "4215ba00",
   "metadata": {},
   "outputs": [
    {
     "name": "stdout",
     "output_type": "stream",
     "text": [
      "Classification accuracy of K-Nearest Neighbours= 0.7282\n",
      "Classification accuracy of  Logistic Regression = 0.8533\n"
     ]
    }
   ],
   "source": [
    "print(\"Classification accuracy of K-Nearest Neighbours= %.4f\" % accuracy_score(target_test, KNN_predicted))\n",
    "print(\"Classification accuracy of  Logistic Regression = %.4f\" % accuracy_score(target_test, Loigic_Regr_predicted))"
   ]
  },
  {
   "cell_type": "markdown",
   "id": "cd765737",
   "metadata": {},
   "source": [
    " It is observed that the overall accuracy of the Logistic Regression classifier model is higher than K-Nearest Neighbours classifier model.\n",
    " Ths means that the Logistic Regression model had more correct predictions than the K-Nearest Neighbours model."
   ]
  },
  {
   "cell_type": "markdown",
   "id": "5abbe4fa",
   "metadata": {},
   "source": [
    "Next, we will look at the <b>confusion matrix</b> to see where the errors lie:"
   ]
  },
  {
   "cell_type": "code",
   "execution_count": 120,
   "id": "e91321b7",
   "metadata": {},
   "outputs": [
    {
     "data": {
      "image/png": "[encoded data removed]",
      "text/plain": [
       "<Figure size 432x288 with 2 Axes>"
      ]
     },
     "metadata": {
      "needs_background": "light"
     },
     "output_type": "display_data"
    }
   ],
   "source": [
    "# calculate the matrix for the K-Nearest Neighbours Classifier\n",
    "cm_KNN = confusion_matrix(target_test, KNN_predicted, labels=target_categories)\n",
    "# display it graphically\n",
    "cmd_KNN = ConfusionMatrixDisplay(cm_KNN, display_labels=target_categories)\n",
    "cmd_KNN.plot();"
   ]
  },
  {
   "cell_type": "markdown",
   "id": "deda4d32",
   "metadata": {},
   "source": [
    "The confusion Matrix shows that <b>301</b> Positive Reviews were predicted to be Negative, and <b>453</b> Negative Reviews were predicted to be Positive using the K-Nearest Neighbours Classifier model."
   ]
  },
  {
   "cell_type": "code",
   "execution_count": 121,
   "id": "4aa6ed95",
   "metadata": {},
   "outputs": [
    {
     "data": {
      "image/png": "[encoded data removed]",
      "text/plain": [
       "<Figure size 432x288 with 2 Axes>"
      ]
     },
     "metadata": {
      "needs_background": "light"
     },
     "output_type": "display_data"
    }
   ],
   "source": [
    "# calculate the matrix for the  Logistic Regression Classifier\n",
    "cm_Loigic_Regr_ = confusion_matrix(target_test, Loigic_Regr_predicted, labels=target_categories)\n",
    "# display it graphically\n",
    "cmd_Loigic_Regr_ = ConfusionMatrixDisplay(cm_Loigic_Regr_, display_labels=target_categories)\n",
    "cmd_Loigic_Regr_.plot();"
   ]
  },
  {
   "cell_type": "markdown",
   "id": "bf394818",
   "metadata": {},
   "source": [
    "The confusion Matrix shows that <b>158</b> Positive Reviews were predicted to be Negative, and <b>249</b> Negative Reviews were predicted to be Positive using the Logistic Regression Classifier model."
   ]
  },
  {
   "cell_type": "markdown",
   "id": "0393745e",
   "metadata": {},
   "source": [
    "Using both models, it is observed that more negative reviews were predicted to be postive than the other way around.This could be as because of the stop words used, some of the words could have caused a wrong prediction.It could aslo be because, some negative reviews are filled with use of sacarsms to express disatisfactions.Ths could have also caused wrong predictions."
   ]
  },
  {
   "cell_type": "markdown",
   "id": "e90bb4eb",
   "metadata": {},
   "source": [
    "We can look at <b>precision</b>, <b>recall</b>  and <b>F1 measure</b> scores for both classes using using scikit-learn's <i>classification_report</i> function."
   ]
  },
  {
   "cell_type": "code",
   "execution_count": 122,
   "id": "3ccee024",
   "metadata": {},
   "outputs": [
    {
     "name": "stdout",
     "output_type": "stream",
     "text": [
      "Classification summary for K-Nearest Neighbour model\n",
      "              precision    recall  f1-score   support\n",
      "\n",
      "    Positive       0.72      0.63      0.67      1213\n",
      "    Negative       0.74      0.81      0.77      1561\n",
      "\n",
      "    accuracy                           0.73      2774\n",
      "   macro avg       0.73      0.72      0.72      2774\n",
      "weighted avg       0.73      0.73      0.73      2774\n",
      "\n"
     ]
    }
   ],
   "source": [
    "#Summary of statistics of K-Nearest Neighbour model\n",
    "print(\"Classification summary for K-Nearest Neighbour model\")\n",
    "print(classification_report(target_test, KNN_predicted, target_names=target_categories))"
   ]
  },
  {
   "cell_type": "markdown",
   "id": "fdc94f10",
   "metadata": {},
   "source": [
    "From the above summary, the K-Nearest Neighbour model shows that precision is higher when predicting positive reviews compared to negative reviews.Recall is higher for negative reviews i.e there is higher proportion of relevant results that are retrieved for negative reviews.The F1 score is Higher for negative reviews."
   ]
  },
  {
   "cell_type": "code",
   "execution_count": 123,
   "id": "0cb95414",
   "metadata": {},
   "outputs": [
    {
     "name": "stdout",
     "output_type": "stream",
     "text": [
      "Classification summary for Logistic Regression model\n",
      "              precision    recall  f1-score   support\n",
      "\n",
      "    Positive       0.86      0.79      0.83      1213\n",
      "    Negative       0.85      0.90      0.87      1561\n",
      "\n",
      "    accuracy                           0.85      2774\n",
      "   macro avg       0.85      0.85      0.85      2774\n",
      "weighted avg       0.85      0.85      0.85      2774\n",
      "\n"
     ]
    }
   ],
   "source": [
    "#Summary of statistics of Logistic Regression model\n",
    "print(\"Classification summary for Logistic Regression model\")\n",
    "print(classification_report(target_test, Loigic_Regr_predicted, target_names=target_categories))"
   ]
  },
  {
   "cell_type": "markdown",
   "id": "60bb2347",
   "metadata": {},
   "source": [
    " Logistic Regression model also has higher positive review precision and higher negative review recall.Hence, F1 is Higher for Negative reviews."
   ]
  },
  {
   "cell_type": "markdown",
   "id": "4a70d5b4",
   "metadata": {},
   "source": [
    "In both classifier models, of all Positive and Negative predictions, there is a higher portion of reviews that are actually Postive than Negative-Precision.Also, of all real Positive and Negative reviews, there are more predicted Negative reviews than Positive reviews."
   ]
  },
  {
   "cell_type": "markdown",
   "id": "73aa4ebd",
   "metadata": {},
   "source": [
    "Dislaimer:The Results above are subject to change every time the cell is run.This is because the splitting of data and target to training and testing is random, so the proportion wll change every time.Nevertheless, the general results of more right and more wrong predictions are the same."
   ]
  },
  {
   "cell_type": "markdown",
   "id": "21dcdc40",
   "metadata": {},
   "source": [
    "Finally, We look at evaluates the Classifiers with <b>Cross Validation</b>\n",
    "\n",
    "This will be done using a 10-fold cross validation "
   ]
  },
  {
   "cell_type": "code",
   "execution_count": 124,
   "id": "33ab5661",
   "metadata": {},
   "outputs": [
    {
     "name": "stdout",
     "output_type": "stream",
     "text": [
      "[0.7427027  0.74054054 0.75351351 0.75567568 0.74025974 0.73160173\n",
      " 0.73701299 0.7478355  0.73809524 0.75541126]\n"
     ]
    }
   ],
   "source": [
    "# apply 10-fold cross-validation to  K-Nearest Neighbour pipeline model, measuring accuracy each time.\n",
    "acc_scores_KNN =  cross_val_score(pipeline_KNN, documents, target, cv=10, scoring=\"accuracy\")\n",
    "print(acc_scores_KNN)"
   ]
  },
  {
   "cell_type": "markdown",
   "id": "82c869d8",
   "metadata": {},
   "source": [
    "Calculate the average accuracy across all folds:"
   ]
  },
  {
   "cell_type": "code",
   "execution_count": 125,
   "id": "a8addc96",
   "metadata": {},
   "outputs": [
    {
     "name": "stdout",
     "output_type": "stream",
     "text": [
      "Mean accuracy of K-Nearest Neighbour model: 0.7443\n"
     ]
    }
   ],
   "source": [
    "s_acc_KNN = pd.Series(acc_scores_KNN)\n",
    "print(\"Mean accuracy of K-Nearest Neighbour model: %.4f\" % s_acc_KNN.mean())"
   ]
  },
  {
   "cell_type": "code",
   "execution_count": 126,
   "id": "06b09f45",
   "metadata": {},
   "outputs": [
    {
     "name": "stdout",
     "output_type": "stream",
     "text": [
      "[0.86594595 0.85945946 0.85513514 0.87675676 0.85497835 0.86471861\n",
      " 0.86471861 0.86147186 0.8495671  0.86471861]\n"
     ]
    }
   ],
   "source": [
    "# apply 10-fold cross-validation to Logistic Regression pipeline model, measuring accuracy each time.\n",
    "acc_scores_logic_regr =  cross_val_score(pipeline_logic_regr, documents, target, cv=10, scoring=\"accuracy\")\n",
    "print(acc_scores_logic_regr)"
   ]
  },
  {
   "cell_type": "markdown",
   "id": "59f802aa",
   "metadata": {},
   "source": [
    "Calculate the average accuracy across all folds:"
   ]
  },
  {
   "cell_type": "code",
   "execution_count": 127,
   "id": "4c443903",
   "metadata": {},
   "outputs": [
    {
     "name": "stdout",
     "output_type": "stream",
     "text": [
      "Mean accuracy of Logistic Regression model: 0.8617\n"
     ]
    }
   ],
   "source": [
    "s_acc_logic_regr = pd.Series(acc_scores_logic_regr)\n",
    "print(\"Mean accuracy of Logistic Regression model: %.4f\" % s_acc_logic_regr.mean())"
   ]
  },
  {
   "cell_type": "markdown",
   "id": "4eb5c504",
   "metadata": {},
   "source": [
    "Concluding with the cross validation evaluation, the Logistic Regression classifier model is more accurate than the K-Nearest Neighbour classfier model at predicating what revies are Positive reviews, and Negative reviews."
   ]
  },
  {
   "cell_type": "markdown",
   "id": "4f84a6b6",
   "metadata": {},
   "source": [
    "# Task 3-Review Helpfulness Classification"
   ]
  },
  {
   "cell_type": "markdown",
   "id": "fed2bb77",
   "metadata": {},
   "source": [
    "Our documents here are given by the Title-Review Column.Our target variable is given by a new Helpfulness Class Label column, where 'Helpful' indicates a helpful review and 'Unhelpful' indicates an unhelpful review."
   ]
  },
  {
   "cell_type": "code",
   "execution_count": 128,
   "id": "26464a4c",
   "metadata": {},
   "outputs": [],
   "source": [
    "documents=df_reviews[\"Title-Review\"]\n",
    "target_categories=[\"Helpful\", \"Unhelpful\"]\n",
    "# Class labels for all documents\n",
    "target=df_reviews['Helpfulness']"
   ]
  },
  {
   "cell_type": "markdown",
   "id": "40b16644",
   "metadata": {},
   "source": [
    "Firstly, Split the data, so that we have 70% in the training set and 30% in the test set"
   ]
  },
  {
   "cell_type": "code",
   "execution_count": 133,
   "id": "1d697cc9",
   "metadata": {},
   "outputs": [],
   "source": [
    "data_train, data_test, target_train, target_test = train_test_split(documents, target, test_size=0.3)"
   ]
  },
  {
   "cell_type": "markdown",
   "id": "ee5a9687",
   "metadata": {},
   "source": [
    "## Classification  - Logistic Regression"
   ]
  },
  {
   "cell_type": "markdown",
   "id": "e8edd704",
   "metadata": {},
   "source": [
    "We use Logistic Regression from scikit-learn as a Classfier.Pipleine from Sckitlearn will be used for the preprocessing techniques which are <i>case conversion, lemmanisation, stop-word filtering,low frequency term filtering = 3</i> and classification."
   ]
  },
  {
   "cell_type": "code",
   "execution_count": 134,
   "id": "5109d42e",
   "metadata": {},
   "outputs": [],
   "source": [
    "pipeline_logic_regr2 = Pipeline([\n",
    "    ('vec', CountVectorizer(min_df = 3, stop_words=stopword,tokenizer=lemma_tokenizer,lowercase=True)),\n",
    "    ('tfidf', TfidfTransformer()),\n",
    "    ('clf', LogisticRegression(random_state=0))\n",
    "])"
   ]
  },
  {
   "cell_type": "markdown",
   "id": "105dd3b5",
   "metadata": {},
   "source": [
    "Now we can train the model using the pipeline:"
   ]
  },
  {
   "cell_type": "code",
   "execution_count": 135,
   "id": "94c0cade",
   "metadata": {},
   "outputs": [
    {
     "data": {
      "text/plain": [
       "Pipeline(steps=[('vec',\n",
       "                 CountVectorizer(min_df=3,\n",
       "                                 stop_words=frozenset({'a', 'about', 'above',\n",
       "                                                       'across', 'after',\n",
       "                                                       'afterwards', 'again',\n",
       "                                                       'against', 'all',\n",
       "                                                       'almost', 'alone',\n",
       "                                                       'along', 'already',\n",
       "                                                       'also', 'although',\n",
       "                                                       'always', 'am', 'among',\n",
       "                                                       'amongst', 'amoungst',\n",
       "                                                       'amount', 'an', 'and',\n",
       "                                                       'another', 'any',\n",
       "                                                       'anyhow', 'anyone',\n",
       "                                                       'anything', 'anyway',\n",
       "                                                       'anywhere', ...}),\n",
       "                                 tokenizer=<function lemma_tokenizer at 0x000001D299C26550>)),\n",
       "                ('tfidf', TfidfTransformer()),\n",
       "                ('clf', LogisticRegression(random_state=0))])"
      ]
     },
     "execution_count": 135,
     "metadata": {},
     "output_type": "execute_result"
    }
   ],
   "source": [
    "pipeline_logic_regr2.fit(data_train, target_train)"
   ]
  },
  {
   "cell_type": "markdown",
   "id": "b51d7c9d",
   "metadata": {},
   "source": [
    "Use pipeline to test the model on the set of test documents"
   ]
  },
  {
   "cell_type": "code",
   "execution_count": 136,
   "id": "2b2e222e",
   "metadata": {},
   "outputs": [],
   "source": [
    "Loigic_Regr_predicted2 = pipeline_logic_regr2.predict(data_test)"
   ]
  },
  {
   "cell_type": "markdown",
   "id": "fc944626",
   "metadata": {},
   "source": [
    "## Classification  -  linear Support Vector Machine (SVM)"
   ]
  },
  {
   "cell_type": "markdown",
   "id": "b5a0e997",
   "metadata": {},
   "source": [
    "We use  linear Support Vector Machine (SVM) from scikit-learn as a Classfier.Pipleine from Sckitlearn will be used for the preprocessing techniques which are <i>case conversion, lemmanisation, stop-word filtering,low frequency term filtering = 3</i> and classification."
   ]
  },
  {
   "cell_type": "code",
   "execution_count": 137,
   "id": "dcac32b4",
   "metadata": {},
   "outputs": [],
   "source": [
    "pipeline_SVM = Pipeline([\n",
    "    ('vec', CountVectorizer(min_df = 3, stop_words=stopword,tokenizer=lemma_tokenizer,lowercase=True)),\n",
    "    ('tfidf', TfidfTransformer()),\n",
    "    ('clf', SGDClassifier())\n",
    "])"
   ]
  },
  {
   "cell_type": "markdown",
   "id": "20bb109d",
   "metadata": {},
   "source": [
    "Now we can train the model using the pipeline:"
   ]
  },
  {
   "cell_type": "code",
   "execution_count": 138,
   "id": "eeb8d211",
   "metadata": {},
   "outputs": [
    {
     "data": {
      "text/plain": [
       "Pipeline(steps=[('vec',\n",
       "                 CountVectorizer(min_df=3,\n",
       "                                 stop_words=frozenset({'a', 'about', 'above',\n",
       "                                                       'across', 'after',\n",
       "                                                       'afterwards', 'again',\n",
       "                                                       'against', 'all',\n",
       "                                                       'almost', 'alone',\n",
       "                                                       'along', 'already',\n",
       "                                                       'also', 'although',\n",
       "                                                       'always', 'am', 'among',\n",
       "                                                       'amongst', 'amoungst',\n",
       "                                                       'amount', 'an', 'and',\n",
       "                                                       'another', 'any',\n",
       "                                                       'anyhow', 'anyone',\n",
       "                                                       'anything', 'anyway',\n",
       "                                                       'anywhere', ...}),\n",
       "                                 tokenizer=<function lemma_tokenizer at 0x000001D299C26550>)),\n",
       "                ('tfidf', TfidfTransformer()), ('clf', SGDClassifier())])"
      ]
     },
     "execution_count": 138,
     "metadata": {},
     "output_type": "execute_result"
    }
   ],
   "source": [
    "pipeline_SVM.fit(data_train, target_train)"
   ]
  },
  {
   "cell_type": "markdown",
   "id": "f45d175b",
   "metadata": {},
   "source": [
    "Use pipeline to test the model on the set of test documents"
   ]
  },
  {
   "cell_type": "code",
   "execution_count": 139,
   "id": "020749af",
   "metadata": {},
   "outputs": [],
   "source": [
    "SVM_predicted = pipeline_SVM.predict(data_test)"
   ]
  },
  {
   "cell_type": "markdown",
   "id": "9a12adb7",
   "metadata": {},
   "source": [
    "## Evaluation of Classifiers"
   ]
  },
  {
   "cell_type": "markdown",
   "id": "d69d142d",
   "metadata": {},
   "source": [
    "Now we will evaluate the performance of the classifiers. \n",
    "\n",
    "Firstly, we can just look at the <b>overall accuracy</b>"
   ]
  },
  {
   "cell_type": "code",
   "execution_count": 140,
   "id": "767dfe99",
   "metadata": {},
   "outputs": [
    {
     "name": "stdout",
     "output_type": "stream",
     "text": [
      "Classification accuracy of  Logistic Regression = 0.8295\n",
      "Classification accuracy of Support Vector Machine= 0.8493\n"
     ]
    }
   ],
   "source": [
    "print(\"Classification accuracy of  Logistic Regression = %.4f\" % accuracy_score(target_test, Loigic_Regr_predicted2))\n",
    "print(\"Classification accuracy of Support Vector Machine= %.4f\" % accuracy_score(target_test, SVM_predicted))"
   ]
  },
  {
   "cell_type": "markdown",
   "id": "2751c2f9",
   "metadata": {},
   "source": [
    "The results of the overall accuracy shows that the Support Vector Machine classifier model is more accurate than Logistic Regression Classifier Model in predicting the helpfulness of the reviews.There are more correct predictions with the SVM model than the logistice regression model."
   ]
  },
  {
   "cell_type": "markdown",
   "id": "28efaf2a",
   "metadata": {},
   "source": [
    "Next, we will look at the <b>confusion matrix</b> to see where the errors lie:"
   ]
  },
  {
   "cell_type": "code",
   "execution_count": 141,
   "id": "8d14c478",
   "metadata": {},
   "outputs": [
    {
     "data": {
      "image/png": "[encoded data removed]",
      "text/plain": [
       "<Figure size 432x288 with 2 Axes>"
      ]
     },
     "metadata": {
      "needs_background": "light"
     },
     "output_type": "display_data"
    }
   ],
   "source": [
    "# calculate the matrix for the Logistic Regression Classifier\n",
    "cm__Loigic_Regr_2 = confusion_matrix(target_test, Loigic_Regr_predicted2, labels=target_categories)\n",
    "# display it graphically\n",
    "cm__Loigic_Regr_2 = ConfusionMatrixDisplay(cm__Loigic_Regr_2, display_labels=target_categories)\n",
    "cm__Loigic_Regr_2.plot();"
   ]
  },
  {
   "cell_type": "markdown",
   "id": "03244f26",
   "metadata": {},
   "source": [
    "The confusion Matrix shows that only <b>19</b> Helpful Reviews were predicted to be Unhelpful, and <b>454</b> Unhelpful Reviews were predicted to be Helpful using the Logistic Regression Classifier model.This model performed poorly in predicting the Unhelpfulness of reviews as there were more wrong predictions than right ones."
   ]
  },
  {
   "cell_type": "code",
   "execution_count": 142,
   "id": "71fe567d",
   "metadata": {},
   "outputs": [
    {
     "data": {
      "image/png": "[encoded data removed]",
      "text/plain": [
       "<Figure size 432x288 with 2 Axes>"
      ]
     },
     "metadata": {
      "needs_background": "light"
     },
     "output_type": "display_data"
    }
   ],
   "source": [
    "# calculate the matrix for the Support Vector Machine Classifier\n",
    "cm_SVM = confusion_matrix(target_test, SVM_predicted, labels=target_categories)\n",
    "# display it graphically\n",
    "cm_SVM = ConfusionMatrixDisplay(cm_SVM, display_labels=target_categories)\n",
    "cm_SVM.plot();"
   ]
  },
  {
   "cell_type": "markdown",
   "id": "2d0c8b21",
   "metadata": {},
   "source": [
    "The confusion Matrix shows that only <b>77</b> Helpful Reviews were predicted to be Unhelpful, and <b>341</b> Unhelpful Reviews were predicted to be Helpful using the Support Vector Machine model.This model performed poorly in predicting the Unhelpfulness of reviews as there were more wrong predictions than right ones."
   ]
  },
  {
   "cell_type": "markdown",
   "id": "c516470a",
   "metadata": {},
   "source": [
    "Results from the confusion matrix of both models shows that in predicting the helpfulness of the reviews, more helpful reviews are predicted correctly, while more unhelpful reviews are predicted wrongly in both models.It is an understandable results because sometimes, the content of reviews do not determine whether a user finds it useful or not.It all depends on if the user chooses to relate with the review or not.In some cases, if the product being reviewed are the same as the users product of interest, ths could also influence the usefulness of the review to the user."
   ]
  },
  {
   "cell_type": "markdown",
   "id": "0ace3abe",
   "metadata": {},
   "source": [
    "We can look at <b>precision</b>, <b>recall</b>  and <b>F1 measure</b> scores for both classes using using scikit-learn's <i>classification_report</i> function."
   ]
  },
  {
   "cell_type": "code",
   "execution_count": 146,
   "id": "42a298d0",
   "metadata": {},
   "outputs": [
    {
     "name": "stdout",
     "output_type": "stream",
     "text": [
      "Classification summary for Logistic Regression model\n",
      "              precision    recall  f1-score   support\n",
      "\n",
      "     Helpful       0.83      0.99      0.90      2218\n",
      "   Unhelpful       0.84      0.18      0.30       556\n",
      "\n",
      "    accuracy                           0.83      2774\n",
      "   macro avg       0.84      0.59      0.60      2774\n",
      "weighted avg       0.83      0.83      0.78      2774\n",
      "\n"
     ]
    }
   ],
   "source": [
    "#Summary of statistics of Logistic Regression model\n",
    "print(\"Classification summary for Logistic Regression model\")\n",
    "print(classification_report(target_test, Loigic_Regr_predicted2, target_names=target_categories))"
   ]
  },
  {
   "cell_type": "markdown",
   "id": "0b34ea3a",
   "metadata": {},
   "source": [
    "From the above summary, the Logistic Regression model shows that precision is higher when predicting unhelpful reviews compared to helpful reviews.Recall is a lot higher for helpful reviews i.e there is higher proportion of relevant results that are retrieved for helpful reviews.The F1 score is Higher for helpful reviews."
   ]
  },
  {
   "cell_type": "code",
   "execution_count": 147,
   "id": "f40dc06f",
   "metadata": {},
   "outputs": [
    {
     "name": "stdout",
     "output_type": "stream",
     "text": [
      "Classification summary for Support Vector Machine model\n",
      "              precision    recall  f1-score   support\n",
      "\n",
      "     Helpful       0.86      0.97      0.91      2218\n",
      "   Unhelpful       0.74      0.39      0.51       556\n",
      "\n",
      "    accuracy                           0.85      2774\n",
      "   macro avg       0.80      0.68      0.71      2774\n",
      "weighted avg       0.84      0.85      0.83      2774\n",
      "\n"
     ]
    }
   ],
   "source": [
    "#Summary of statistics of Support Vector Machine model\n",
    "print(\"Classification summary for Support Vector Machine model\")\n",
    "print(classification_report(target_test, SVM_predicted, target_names=target_categories))"
   ]
  },
  {
   "cell_type": "markdown",
   "id": "63d95ca2",
   "metadata": {},
   "source": [
    "In the case of the Support Vector Machine model, both precision and recall are higher for helpful reviews.The F1 measures for helpful review is a lot higher for helpful reviews also."
   ]
  },
  {
   "cell_type": "markdown",
   "id": "7f4b0396",
   "metadata": {},
   "source": [
    "The Logistic regression model shows that there were a slightly larger portion of actual unhelpful reviews that were predicted correctly.There was also a larger portion for the case of actual helpful reviews.Also, More portions of the predicted helpful reviews were actually correct, compared to the unhelpful reviews predictions.\n",
    "\n",
    "The Support Vector Machine model showed slightly different results.It showed that More portion of the predicted helful reviews were actually correst and more portions of the actual helpful reviews were predicted correctly compared to the actual unhelpful predictions."
   ]
  },
  {
   "cell_type": "markdown",
   "id": "196f60bd",
   "metadata": {},
   "source": [
    "Dislaimer:The Results above are subject to change every time the cell is run.This is because the splitting of data and target to training and testing is random, so the proportion wll change every time.Nevertheless, the general results of more right and more wrong predictions are the same."
   ]
  },
  {
   "cell_type": "markdown",
   "id": "82c8b7f4",
   "metadata": {},
   "source": [
    "Finally, We look at evaluates the Classifiers with <b>Cross Validation</b>\n",
    "\n",
    "This will be done using a 10-fold cross validation "
   ]
  },
  {
   "cell_type": "code",
   "execution_count": 149,
   "id": "15fcadde",
   "metadata": {},
   "outputs": [
    {
     "name": "stdout",
     "output_type": "stream",
     "text": [
      "[0.84324324 0.85405405 0.84432432 0.84756757 0.83549784 0.83441558\n",
      " 0.83766234 0.84415584 0.8452381  0.83874459]\n"
     ]
    }
   ],
   "source": [
    "# apply 10-fold cross-validation to  Logistic regression model, measuring accuracy each time.\n",
    "acc_scores_logic_regr_2 =  cross_val_score(pipeline_logic_regr2, documents, target, cv=10, scoring=\"accuracy\")\n",
    "print(acc_scores_logic_regr_2)"
   ]
  },
  {
   "cell_type": "markdown",
   "id": "29f93c45",
   "metadata": {},
   "source": [
    "Calculate the average accuracy across all folds:"
   ]
  },
  {
   "cell_type": "code",
   "execution_count": 150,
   "id": "6cbccc8e",
   "metadata": {},
   "outputs": [
    {
     "name": "stdout",
     "output_type": "stream",
     "text": [
      "Mean accuracy of Logistic regression model: 0.8425\n"
     ]
    }
   ],
   "source": [
    "s_acc_scores_logic_regr_2 = pd.Series(acc_scores_logic_regr_2)\n",
    "print(\"Mean accuracy of Logistic regression model: %.4f\" % s_acc_scores_logic_regr_2.mean())"
   ]
  },
  {
   "cell_type": "code",
   "execution_count": 151,
   "id": "aa106573",
   "metadata": {},
   "outputs": [
    {
     "name": "stdout",
     "output_type": "stream",
     "text": [
      "[0.85837838 0.86702703 0.8572973  0.86486486 0.8538961  0.85064935\n",
      " 0.84415584 0.85497835 0.87012987 0.8517316 ]\n"
     ]
    }
   ],
   "source": [
    "# apply 10-fold cross-validation to Support Vector Machine model, measuring accuracy each time.\n",
    "acc_SVM =  cross_val_score(pipeline_SVM , documents, target, cv=10, scoring=\"accuracy\")\n",
    "print(acc_SVM)"
   ]
  },
  {
   "cell_type": "markdown",
   "id": "5c4fb675",
   "metadata": {},
   "source": [
    "Calculate the average accuracy across all folds:"
   ]
  },
  {
   "cell_type": "code",
   "execution_count": 152,
   "id": "e4b7770e",
   "metadata": {},
   "outputs": [
    {
     "name": "stdout",
     "output_type": "stream",
     "text": [
      "Mean accuracy of Support Vector Machine model: 0.8573\n"
     ]
    }
   ],
   "source": [
    "s_acc_SVM = pd.Series(acc_SVM)\n",
    "print(\"Mean accuracy of Support Vector Machine model: %.4f\" % s_acc_SVM.mean())"
   ]
  },
  {
   "cell_type": "markdown",
   "id": "e437d9ae",
   "metadata": {},
   "source": [
    "The mean accuracy of the Support Vector Machine model is considerably higher than the Logistic Regression Model when predicting the helpfullness of reviews."
   ]
  },
  {
   "cell_type": "markdown",
   "id": "7bf590b5",
   "metadata": {},
   "source": [
    "# Comparing the classifications for Task 2 and 3"
   ]
  },
  {
   "cell_type": "markdown",
   "id": "56579533",
   "metadata": {},
   "source": [
    "In Task 2, the review class label was either positive or negative reviews.The most accurate classifier model was the Logistic Regression Model.Had higher overall accuracy and also higher cross-validation mean ccuracy than the K-Nearest Neighbour Model.The K-Nearest Neighbour model is known to be a simple or 'lazy' model so the results only validated that. Also,results in the confusion matrix showed more actual negative reviews were predicted to be positive reviews in both models.As stated before this could be as a results of the use of some not so appropriate stop words, or cause some negative reviews are sacarstic and could seem positive to the models.\n",
    "\n",
    "In Task 3, the class label was either helpful or unhelpful reviews.Because of the success of the Logistic Regression classifier, it was used to as a model in this task.The Support Vector Machine classifier was also used to model a predictor.The results showed that the SVM classifier was more accurate overall than the Logistic Regression classifier. More helful review were predicted corretly in both models.Also there were a lot of unhelpful review predicted wrongly than right.This was the case for both models also."
   ]
  },
  {
   "cell_type": "markdown",
   "id": "87c1e7cd",
   "metadata": {},
   "source": [
    "# Conclusion"
   ]
  },
  {
   "cell_type": "markdown",
   "id": "de487af2",
   "metadata": {},
   "source": [
    "In conclusion, in order of the most accurate classifier, its the Support Vector Machine, Logistic Regression classifier and then the K-Nearest Neighbour Model.\n",
    "For future analysis, it will be important to see if increasing the number of k, will improve the accuracy of the K-Nearest Neighbour Model.Also using other classifiers such as Decision Tree Classifiers/Random Forests, Naive Bayes and Linear Discriminant Analysis to perfom Task 2 and Task 3 will be considered.It will be important to get the most accurate classifier for machine learning and predicting.Analysis that would involve predicting multiple classses will also be considered."
   ]
  }
 ],
 "metadata": {
  "kernelspec": {
   "display_name": "Python 3",
   "language": "python",
   "name": "python3"
  },
  "language_info": {
   "codemirror_mode": {
    "name": "ipython",
    "version": 3
   },
   "file_extension": ".py",
   "mimetype": "text/x-python",
   "name": "python",
   "nbconvert_exporter": "python",
   "pygments_lexer": "ipython3",
   "version": "3.8.8"
  }
 },
 "nbformat": 4,
 "nbformat_minor": 5
}
